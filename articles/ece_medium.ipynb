{
  "cells": [
    {
      "cell_type": "markdown",
      "metadata": {
        "id": "view-in-github",
        "colab_type": "text"
      },
      "source": [
        "<a href=\"https://colab.research.google.com/github/majapavlo/medium/blob/main/ece_medium.ipynb\" target=\"_parent\"><img src=\"https://colab.research.google.com/assets/colab-badge.svg\" alt=\"Open In Colab\"/></a>"
      ]
    },
    {
      "cell_type": "markdown",
      "metadata": {
        "id": "X8hTG_9YPkKl"
      },
      "source": [
        "# Expected Calibration Error (ECE)\n",
        "### Code for [Medium Article](LINK)\n",
        "\n",
        "\n",
        "---\n",
        "\n",
        "#### Overview\n",
        "\n",
        "1. **Numpy Example**\n",
        "    1. Binary classification\n",
        "\n",
        "    2. Multi-class classification\n",
        "    \n",
        "2. **PyTorch Example**\n",
        "    1. Binary classification\n",
        "\n",
        "    2. Multi-class classification\n",
        "\n",
        "------\n",
        "\n",
        "\n",
        "## Numpy\n",
        "### Definition of the ECE function:"
      ]
    },
    {
      "cell_type": "code",
      "execution_count": 1,
      "metadata": {
        "id": "cm5-AVC3PkKm"
      },
      "outputs": [],
      "source": [
        "import numpy as np\n",
        "\n",
        "\n",
        "def expected_calibration_error(samples, true_labels, M=3, binary=False):\n",
        "    # uniform binning approach with M number of bins\n",
        "    bin_boundaries = np.linspace(0, 1, M + 1)\n",
        "    bin_lowers = bin_boundaries[:-1]\n",
        "    bin_uppers = bin_boundaries[1:]\n",
        "\n",
        "    if binary:\n",
        "        # keep confidences / predicted \"probabilities\" as they are\n",
        "        confidences = samples\n",
        "        # get binary class predictions from confidences\n",
        "        predicted_label = (samples>0.5).astype(float)\n",
        "    else:                                                             # MULTI-CLASS option\n",
        "        # get max probability per sample i                            # MULTI-CLASS option\n",
        "        confidences = np.max(samples, axis=1)                         # MULTI-CLASS option\n",
        "        # get predictions from confidences (positional in this case)  # MULTI-CLASS option\n",
        "        predicted_label = np.argmax(samples, axis=1).astype(float)        # MULTI-CLASS option\n",
        "\n",
        "    # get a boolean list of correct/false predictions\n",
        "    accuracies = predicted_label==true_labels\n",
        "\n",
        "    ece = np.zeros(1)\n",
        "    for bin_lower, bin_upper in zip(bin_lowers, bin_uppers):\n",
        "        # determine if sample is in bin m (between bin lower & upper)\n",
        "        in_bin = np.logical_and(confidences > bin_lower.item(), confidences <= bin_upper.item())\n",
        "        # can calculate the empirical probability of a sample falling into bin m: (|Bm|/n)\n",
        "        prop_in_bin = in_bin.astype(float).mean()\n",
        "\n",
        "        if prop_in_bin.item() > 0:\n",
        "            # get the accuracy of bin m: acc(Bm)\n",
        "            accuracy_in_bin = accuracies[in_bin].astype(float).mean()\n",
        "            # get the average confidence of bin m: conf(Bm)\n",
        "            avg_confidence_in_bin = confidences[in_bin].mean()\n",
        "            # calculate |acc(Bm) - conf(Bm)| * (|Bm|/n) for bin m and add to the total ECE\n",
        "            ece += np.abs(avg_confidence_in_bin - accuracy_in_bin) * prop_in_bin\n",
        "    return ece"
      ]
    },
    {
      "cell_type": "markdown",
      "metadata": {
        "id": "WCeTSa54PkKn"
      },
      "source": [
        "#### **Binary Classification:**"
      ]
    },
    {
      "cell_type": "code",
      "execution_count": 2,
      "metadata": {
        "colab": {
          "base_uri": "https://localhost:8080/"
        },
        "id": "vmuILh1iPkKo",
        "outputId": "ba7618e8-6869-4777-ea5a-545ba090144f"
      },
      "outputs": [
        {
          "output_type": "execute_result",
          "data": {
            "text/plain": [
              "0.2377777777777778"
            ]
          },
          "metadata": {},
          "execution_count": 2
        }
      ],
      "source": [
        "# Data\n",
        "samples = np.array([0.22, 0.64, 0.92, 0.42, 0.51, 0.15, 0.70, 0.37, 0.83])\n",
        "true_labels = np.array([0,1,0,0,0,1,1,0,1])\n",
        "\n",
        "\n",
        "expected_calibration_error(samples, true_labels, binary=True)[0]"
      ]
    },
    {
      "cell_type": "markdown",
      "metadata": {
        "id": "lPqZbBNqPkKo"
      },
      "source": [
        "#### **Multi-class Classification:**\n",
        "\n",
        "In addition to the binary example, also added the option for the multi-class classification.\n",
        "We now use the example data from [James D. McCaffrey](https://jamesmccaffrey.wordpress.com/2021/01/22/how-to-calculate-expected-calibration-error-for-multi-class-classification/).\n",
        "\n",
        "**_You can just skip to the PyTorch code_** it if you are only interested in following the **_binary example_** from above."
      ]
    },
    {
      "cell_type": "code",
      "execution_count": 3,
      "metadata": {
        "id": "b64U-7_VPkKp"
      },
      "outputs": [],
      "source": [
        "target_classes = [\"democrat\", \"republican\", \"independent\", \"green\", \"libertarian\"]"
      ]
    },
    {
      "cell_type": "code",
      "execution_count": 4,
      "metadata": {
        "colab": {
          "base_uri": "https://localhost:8080/"
        },
        "id": "1TibD0VXPkKp",
        "outputId": "dc16383f-599e-4f10-a6d9-a91922523215"
      },
      "outputs": [
        {
          "output_type": "execute_result",
          "data": {
            "text/plain": [
              "array([0.192])"
            ]
          },
          "metadata": {},
          "execution_count": 4
        }
      ],
      "source": [
        "# Data\n",
        "samples_multi = np.array([[0.25,0.2,0.22,0.18,0.15],\n",
        "                          [0.16,0.06,0.5,0.07,0.21],\n",
        "                          [0.06,0.03,0.8,0.07,0.04],\n",
        "                          [0.02,0.03,0.01,0.04,0.9],\n",
        "                          [0.4,0.15,0.16,0.14,0.15],\n",
        "                          [0.15,0.28,0.18,0.17,0.22],\n",
        "                          [0.07,0.8,0.03,0.06,0.04],\n",
        "                          [0.1,0.05,0.03,0.75,0.07],\n",
        "                          [0.25,0.22,0.05,0.3,0.18],\n",
        "                          [0.12,0.09,0.02,0.17,0.6]])\n",
        "\n",
        "true_labels_multi = np.array([0,2,3,4,2,0,1,3,3,2])\n",
        "\n",
        "\n",
        "expected_calibration_error(samples_multi, true_labels_multi, binary=False)"
      ]
    },
    {
      "cell_type": "markdown",
      "metadata": {
        "id": "tekD2EixPkKp"
      },
      "source": [
        "This outputs **_0.192_**, which differs to [McCaffrey's](https://jamesmccaffrey.wordpress.com/2021/01/22/how-to-calculate-expected-calibration-error-for-multi-class-classification/) calculation by **_0.002_** due to _differences in rounding!_\n",
        "\n",
        "If you run this last step from McCaffrey's article: [(3 * 0.39) + (3 * 0.17) + (4 * 0.06)] / 10 through a calculator or Python you should also end up with 0.192, see below:"
      ]
    },
    {
      "cell_type": "code",
      "execution_count": 5,
      "metadata": {
        "colab": {
          "base_uri": "https://localhost:8080/"
        },
        "id": "G5bgBD7OPkKp",
        "outputId": "3b86e593-ec08-4178-f31c-8e1ef3058520"
      },
      "outputs": [
        {
          "output_type": "execute_result",
          "data": {
            "text/plain": [
              "0.192"
            ]
          },
          "metadata": {},
          "execution_count": 5
        }
      ],
      "source": [
        "((3 * 0.39) + (3 * 0.17) + (4 * 0.06)) / 10"
      ]
    },
    {
      "cell_type": "markdown",
      "metadata": {
        "id": "k2C6MB18PkKp"
      },
      "source": [
        "-----------"
      ]
    },
    {
      "cell_type": "markdown",
      "metadata": {
        "id": "ugq2aYFnPkKq"
      },
      "source": [
        "## PyTorch\n",
        "We will now repeat the same 2 examples using PyTorch.\n",
        "\n",
        "### Definition of the ECE function:\n",
        "We now have to slightly adapt the function using _torch_ methods instead of _numpy_ ones:"
      ]
    },
    {
      "cell_type": "code",
      "execution_count": 6,
      "metadata": {
        "id": "qg90KxWJPkKq"
      },
      "outputs": [],
      "source": [
        "import torch\n",
        "\n",
        "def expected_calibration_error(samples, true_labels, M=3, binary=False):\n",
        "    # uniform binning approach with M number of bins\n",
        "    bin_boundaries = torch.linspace(0, 1, M + 1)\n",
        "    bin_lowers = bin_boundaries[:-1]\n",
        "    bin_uppers = bin_boundaries[1:]\n",
        "\n",
        "    if binary:\n",
        "        # keep confidences / predicted \"probabilities\" as they are\n",
        "        confidences = samples\n",
        "        # get binary predictions from confidences\n",
        "        predicted_label = (samples>0.5).float()\n",
        "    else:                                                                                                    # MULTI-CLASS option\n",
        "        # get max probability per sample i (confidences) and the final predictions from these confidences    # MULTI-CLASS option\n",
        "        confidences, predicted_label = torch.max(samples, 1)                                                     # MULTI-CLASS option\n",
        "\n",
        "\n",
        "    # get a boolean list of correct/false predictions\n",
        "    accuracies = predicted_label.eq(true_labels)\n",
        "\n",
        "    ece = torch.zeros(1)\n",
        "    for bin_lower, bin_upper in zip(bin_lowers, bin_uppers):\n",
        "        # determine if sample is in bin m (between bin lower & upper)\n",
        "        in_bin = confidences.gt(bin_lower.item()) * confidences.le(bin_upper.item())\n",
        "        # can calculate the empirical probability of a sample falling into bin m: (|Bm|/n)\n",
        "        prop_in_bin = in_bin.float().mean()\n",
        "        if prop_in_bin.item() > 0:\n",
        "            # get the accuracy of bin m: acc(Bm)\n",
        "            accuracy_in_bin = accuracies[in_bin].float().mean()\n",
        "            # get the average confidence of bin m: conf(Bm)\n",
        "            avg_confidence_in_bin = confidences[in_bin].mean()\n",
        "            # calculate |acc(Bm) - conf(Bm)| * (|Bm|/n) for bin m and add to the total ECE\n",
        "            ece += torch.abs(avg_confidence_in_bin - accuracy_in_bin) * prop_in_bin\n",
        "\n",
        "    return ece"
      ]
    },
    {
      "cell_type": "markdown",
      "metadata": {
        "id": "9wzUWv24PkKq"
      },
      "source": [
        "-----\n",
        "\n",
        "\n",
        "Instead of setting up the data using _np.arrays()_ we now use _torch.tensors()_.\n"
      ]
    },
    {
      "cell_type": "markdown",
      "metadata": {
        "id": "Hui4enxNPkKq"
      },
      "source": [
        "#### **Binary Classification**"
      ]
    },
    {
      "cell_type": "code",
      "execution_count": 7,
      "metadata": {
        "colab": {
          "base_uri": "https://localhost:8080/"
        },
        "id": "LNh6QkKtPkKq",
        "outputId": "de90c45f-800f-4ab6-90b2-e61ad76fa1c3"
      },
      "outputs": [
        {
          "output_type": "execute_result",
          "data": {
            "text/plain": [
              "tensor([0.2378])"
            ]
          },
          "metadata": {},
          "execution_count": 7
        }
      ],
      "source": [
        "# Data\n",
        "samples = torch.tensor([0.22, 0.64, 0.92, 0.42, 0.51, 0.15, 0.70, 0.37, 0.83])\n",
        "true_labels = torch.tensor([0,1,0,0,0,1,1,0,1])\n",
        "\n",
        "\n",
        "expected_calibration_error(samples, true_labels, binary=True)"
      ]
    },
    {
      "cell_type": "markdown",
      "metadata": {
        "id": "moHPrsYVPkKq"
      },
      "source": [
        "#### **Multi-class Classification**"
      ]
    },
    {
      "cell_type": "code",
      "execution_count": 8,
      "metadata": {
        "colab": {
          "base_uri": "https://localhost:8080/"
        },
        "id": "XT1o1Lv2PkKr",
        "outputId": "e3309fa0-7aa2-4497-9322-4e436a4c2170"
      },
      "outputs": [
        {
          "output_type": "execute_result",
          "data": {
            "text/plain": [
              "tensor([0.1920])"
            ]
          },
          "metadata": {},
          "execution_count": 8
        }
      ],
      "source": [
        "# Data\n",
        "samples_multi = torch.tensor([[0.25,0.2,0.22,0.18,0.15],\n",
        "                              [0.16,0.06,0.5,0.07,0.21],\n",
        "                              [0.06,0.03,0.8,0.07,0.04],\n",
        "                              [0.02,0.03,0.01,0.04,0.9],\n",
        "                              [0.4,0.15,0.16,0.14,0.15],\n",
        "                              [0.15,0.28,0.18,0.17,0.22],\n",
        "                              [0.07,0.8,0.03,0.06,0.04],\n",
        "                              [0.1,0.05,0.03,0.75,0.07],\n",
        "                              [0.25,0.22,0.05,0.3,0.18],\n",
        "                              [0.12,0.09,0.02,0.17,0.6]])\n",
        "\n",
        "true_labels_multi = torch.tensor([0,2,3,4,2,0,1,3,3,2])\n",
        "\n",
        "\n",
        "expected_calibration_error(samples_multi, true_labels_multi, binary=False)"
      ]
    },
    {
      "cell_type": "code",
      "source": [],
      "metadata": {
        "id": "QJ-55LiOPrr0"
      },
      "execution_count": null,
      "outputs": []
    }
  ],
  "metadata": {
    "kernelspec": {
      "display_name": ".venv",
      "language": "python",
      "name": "python3"
    },
    "language_info": {
      "codemirror_mode": {
        "name": "ipython",
        "version": 3
      },
      "file_extension": ".py",
      "mimetype": "text/x-python",
      "name": "python",
      "nbconvert_exporter": "python",
      "pygments_lexer": "ipython3",
      "version": "3.10.3"
    },
    "orig_nbformat": 4,
    "colab": {
      "provenance": [],
      "toc_visible": true,
      "include_colab_link": true
    }
  },
  "nbformat": 4,
  "nbformat_minor": 0
}
